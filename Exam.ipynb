{
 "cells": [
  {
   "cell_type": "code",
   "execution_count": 337,
   "metadata": {},
   "outputs": [],
   "source": [
    "import pandas as pd\n",
    "from sklearn import preprocessing\n",
    "import matplotlib.pyplot as plt\n",
    "import seaborn as sns\n",
    "from apyori import apriori\n",
    "import pyfpgrowth\n",
    "import sklearn\n",
    "from sklearn.model_selection import train_test_split\n",
    "from sklearn.naive_bayes import GaussianNB\n",
    "from sklearn import metrics\n",
    "from sklearn.tree import DecisionTreeClassifier\n",
    "from sklearn.ensemble import BaggingClassifier\n",
    "from sklearn.ensemble import AdaBoostClassifier\n",
    "from sklearn.cluster import KMeans\n",
    "from sklearn.cluster import AgglomerativeClustering\n",
    "from sklearn.cluster import DBSCAN"
   ]
  },
  {
   "cell_type": "markdown",
   "metadata": {},
   "source": [
    "1. Read the dataset and perform data preprocessing on this dataset.<br>\n",
    "Find and handle missing values <br>\n",
    "Perform data transformation <br>\n",
    "Perform data binning / discretisation"
   ]
  },
  {
   "cell_type": "code",
   "execution_count": 62,
   "metadata": {},
   "outputs": [],
   "source": [
    "customer = pd.read_csv('customer.csv')"
   ]
  },
  {
   "cell_type": "code",
   "execution_count": 63,
   "metadata": {},
   "outputs": [
    {
     "data": {
      "text/html": [
       "<div>\n",
       "<style scoped>\n",
       "    .dataframe tbody tr th:only-of-type {\n",
       "        vertical-align: middle;\n",
       "    }\n",
       "\n",
       "    .dataframe tbody tr th {\n",
       "        vertical-align: top;\n",
       "    }\n",
       "\n",
       "    .dataframe thead th {\n",
       "        text-align: right;\n",
       "    }\n",
       "</style>\n",
       "<table border=\"1\" class=\"dataframe\">\n",
       "  <thead>\n",
       "    <tr style=\"text-align: right;\">\n",
       "      <th></th>\n",
       "      <th>id</th>\n",
       "      <th>name</th>\n",
       "      <th>income</th>\n",
       "      <th>age</th>\n",
       "      <th>gender</th>\n",
       "      <th>spending score</th>\n",
       "      <th>qty purchased</th>\n",
       "      <th>category</th>\n",
       "      <th>country</th>\n",
       "      <th>purchase type</th>\n",
       "    </tr>\n",
       "  </thead>\n",
       "  <tbody>\n",
       "    <tr>\n",
       "      <th>0</th>\n",
       "      <td>1</td>\n",
       "      <td>A</td>\n",
       "      <td>NaN</td>\n",
       "      <td>-2</td>\n",
       "      <td>Male</td>\n",
       "      <td>95</td>\n",
       "      <td>1</td>\n",
       "      <td>books</td>\n",
       "      <td>new zealand</td>\n",
       "      <td>online</td>\n",
       "    </tr>\n",
       "    <tr>\n",
       "      <th>1</th>\n",
       "      <td>2</td>\n",
       "      <td>B</td>\n",
       "      <td>8086.0</td>\n",
       "      <td>27</td>\n",
       "      <td>Female</td>\n",
       "      <td>66</td>\n",
       "      <td>6</td>\n",
       "      <td>books</td>\n",
       "      <td>pakistan</td>\n",
       "      <td>offline</td>\n",
       "    </tr>\n",
       "    <tr>\n",
       "      <th>2</th>\n",
       "      <td>3</td>\n",
       "      <td>C</td>\n",
       "      <td>8676.0</td>\n",
       "      <td>7</td>\n",
       "      <td>Female</td>\n",
       "      <td>76</td>\n",
       "      <td>32</td>\n",
       "      <td>electronic</td>\n",
       "      <td>korea</td>\n",
       "      <td>online</td>\n",
       "    </tr>\n",
       "    <tr>\n",
       "      <th>3</th>\n",
       "      <td>4</td>\n",
       "      <td>D</td>\n",
       "      <td>5130.0</td>\n",
       "      <td>9</td>\n",
       "      <td>Male</td>\n",
       "      <td>33</td>\n",
       "      <td>19</td>\n",
       "      <td>furniture</td>\n",
       "      <td>south africa</td>\n",
       "      <td>offline</td>\n",
       "    </tr>\n",
       "    <tr>\n",
       "      <th>4</th>\n",
       "      <td>5</td>\n",
       "      <td>E</td>\n",
       "      <td>3704.0</td>\n",
       "      <td>41</td>\n",
       "      <td>Female</td>\n",
       "      <td>51</td>\n",
       "      <td>24</td>\n",
       "      <td>makeup</td>\n",
       "      <td>pakistan</td>\n",
       "      <td>online</td>\n",
       "    </tr>\n",
       "  </tbody>\n",
       "</table>\n",
       "</div>"
      ],
      "text/plain": [
       "   id name  income  age  gender  spending score  qty purchased    category  \\\n",
       "0   1    A     NaN   -2    Male              95              1       books   \n",
       "1   2    B  8086.0   27  Female              66              6       books   \n",
       "2   3    C  8676.0    7  Female              76             32  electronic   \n",
       "3   4    D  5130.0    9    Male              33             19   furniture   \n",
       "4   5    E  3704.0   41  Female              51             24      makeup   \n",
       "\n",
       "        country purchase type  \n",
       "0   new zealand        online  \n",
       "1      pakistan       offline  \n",
       "2         korea        online  \n",
       "3  south africa       offline  \n",
       "4      pakistan        online  "
      ]
     },
     "execution_count": 63,
     "metadata": {},
     "output_type": "execute_result"
    }
   ],
   "source": [
    "customer.head()"
   ]
  },
  {
   "cell_type": "markdown",
   "metadata": {},
   "source": [
    "#### Handling missing values"
   ]
  },
  {
   "cell_type": "code",
   "execution_count": 64,
   "metadata": {},
   "outputs": [
    {
     "data": {
      "text/plain": [
       "id                0\n",
       "name              0\n",
       "income            4\n",
       "age               0\n",
       "gender            0\n",
       "spending score    0\n",
       "qty purchased     0\n",
       "category          4\n",
       "country           0\n",
       "purchase type     3\n",
       "dtype: int64"
      ]
     },
     "execution_count": 64,
     "metadata": {},
     "output_type": "execute_result"
    }
   ],
   "source": [
    "customer.isnull().sum()"
   ]
  },
  {
   "cell_type": "code",
   "execution_count": 65,
   "metadata": {},
   "outputs": [],
   "source": [
    "customer['income'].fillna(customer['income'].mean(), inplace = True)"
   ]
  },
  {
   "cell_type": "code",
   "execution_count": 66,
   "metadata": {},
   "outputs": [],
   "source": [
    "customer['category'].fillna(customer['category'].mode()[0], inplace = True)"
   ]
  },
  {
   "cell_type": "code",
   "execution_count": 67,
   "metadata": {},
   "outputs": [],
   "source": [
    "customer['purchase type'].fillna(customer['purchase type'].mode()[0], inplace = True)"
   ]
  },
  {
   "cell_type": "code",
   "execution_count": 68,
   "metadata": {},
   "outputs": [
    {
     "data": {
      "text/plain": [
       "id                0\n",
       "name              0\n",
       "income            0\n",
       "age               0\n",
       "gender            0\n",
       "spending score    0\n",
       "qty purchased     0\n",
       "category          0\n",
       "country           0\n",
       "purchase type     0\n",
       "dtype: int64"
      ]
     },
     "execution_count": 68,
     "metadata": {},
     "output_type": "execute_result"
    }
   ],
   "source": [
    "customer.isnull().sum()"
   ]
  },
  {
   "cell_type": "markdown",
   "metadata": {},
   "source": [
    "#### Data Transformation "
   ]
  },
  {
   "cell_type": "markdown",
   "metadata": {},
   "source": [
    "##### Label encoding for gender, category, country, purchase type"
   ]
  },
  {
   "cell_type": "code",
   "execution_count": 69,
   "metadata": {},
   "outputs": [],
   "source": [
    "encoder = preprocessing.LabelEncoder()"
   ]
  },
  {
   "cell_type": "code",
   "execution_count": 70,
   "metadata": {},
   "outputs": [],
   "source": [
    "customer[['gender_encode', 'category_encode', 'country_encode', 'purchase type_encode']] = customer[['gender', 'category', 'country', 'purchase type']].apply(encoder.fit_transform)"
   ]
  },
  {
   "cell_type": "code",
   "execution_count": 71,
   "metadata": {},
   "outputs": [
    {
     "data": {
      "text/html": [
       "<div>\n",
       "<style scoped>\n",
       "    .dataframe tbody tr th:only-of-type {\n",
       "        vertical-align: middle;\n",
       "    }\n",
       "\n",
       "    .dataframe tbody tr th {\n",
       "        vertical-align: top;\n",
       "    }\n",
       "\n",
       "    .dataframe thead th {\n",
       "        text-align: right;\n",
       "    }\n",
       "</style>\n",
       "<table border=\"1\" class=\"dataframe\">\n",
       "  <thead>\n",
       "    <tr style=\"text-align: right;\">\n",
       "      <th></th>\n",
       "      <th>id</th>\n",
       "      <th>name</th>\n",
       "      <th>income</th>\n",
       "      <th>age</th>\n",
       "      <th>gender</th>\n",
       "      <th>spending score</th>\n",
       "      <th>qty purchased</th>\n",
       "      <th>category</th>\n",
       "      <th>country</th>\n",
       "      <th>purchase type</th>\n",
       "      <th>gender_encode</th>\n",
       "      <th>category_encode</th>\n",
       "      <th>country_encode</th>\n",
       "      <th>purchase type_encode</th>\n",
       "    </tr>\n",
       "  </thead>\n",
       "  <tbody>\n",
       "    <tr>\n",
       "      <th>0</th>\n",
       "      <td>1</td>\n",
       "      <td>A</td>\n",
       "      <td>6279.454545</td>\n",
       "      <td>-2</td>\n",
       "      <td>Male</td>\n",
       "      <td>95</td>\n",
       "      <td>1</td>\n",
       "      <td>books</td>\n",
       "      <td>new zealand</td>\n",
       "      <td>online</td>\n",
       "      <td>1</td>\n",
       "      <td>1</td>\n",
       "      <td>8</td>\n",
       "      <td>1</td>\n",
       "    </tr>\n",
       "    <tr>\n",
       "      <th>1</th>\n",
       "      <td>2</td>\n",
       "      <td>B</td>\n",
       "      <td>8086.000000</td>\n",
       "      <td>27</td>\n",
       "      <td>Female</td>\n",
       "      <td>66</td>\n",
       "      <td>6</td>\n",
       "      <td>books</td>\n",
       "      <td>pakistan</td>\n",
       "      <td>offline</td>\n",
       "      <td>0</td>\n",
       "      <td>1</td>\n",
       "      <td>9</td>\n",
       "      <td>0</td>\n",
       "    </tr>\n",
       "    <tr>\n",
       "      <th>2</th>\n",
       "      <td>3</td>\n",
       "      <td>C</td>\n",
       "      <td>8676.000000</td>\n",
       "      <td>7</td>\n",
       "      <td>Female</td>\n",
       "      <td>76</td>\n",
       "      <td>32</td>\n",
       "      <td>electronic</td>\n",
       "      <td>korea</td>\n",
       "      <td>online</td>\n",
       "      <td>0</td>\n",
       "      <td>3</td>\n",
       "      <td>5</td>\n",
       "      <td>1</td>\n",
       "    </tr>\n",
       "    <tr>\n",
       "      <th>3</th>\n",
       "      <td>4</td>\n",
       "      <td>D</td>\n",
       "      <td>5130.000000</td>\n",
       "      <td>9</td>\n",
       "      <td>Male</td>\n",
       "      <td>33</td>\n",
       "      <td>19</td>\n",
       "      <td>furniture</td>\n",
       "      <td>south africa</td>\n",
       "      <td>offline</td>\n",
       "      <td>1</td>\n",
       "      <td>4</td>\n",
       "      <td>10</td>\n",
       "      <td>0</td>\n",
       "    </tr>\n",
       "    <tr>\n",
       "      <th>4</th>\n",
       "      <td>5</td>\n",
       "      <td>E</td>\n",
       "      <td>3704.000000</td>\n",
       "      <td>41</td>\n",
       "      <td>Female</td>\n",
       "      <td>51</td>\n",
       "      <td>24</td>\n",
       "      <td>makeup</td>\n",
       "      <td>pakistan</td>\n",
       "      <td>online</td>\n",
       "      <td>0</td>\n",
       "      <td>5</td>\n",
       "      <td>9</td>\n",
       "      <td>1</td>\n",
       "    </tr>\n",
       "  </tbody>\n",
       "</table>\n",
       "</div>"
      ],
      "text/plain": [
       "   id name       income  age  gender  spending score  qty purchased  \\\n",
       "0   1    A  6279.454545   -2    Male              95              1   \n",
       "1   2    B  8086.000000   27  Female              66              6   \n",
       "2   3    C  8676.000000    7  Female              76             32   \n",
       "3   4    D  5130.000000    9    Male              33             19   \n",
       "4   5    E  3704.000000   41  Female              51             24   \n",
       "\n",
       "     category       country purchase type  gender_encode  category_encode  \\\n",
       "0       books   new zealand        online              1                1   \n",
       "1       books      pakistan       offline              0                1   \n",
       "2  electronic         korea        online              0                3   \n",
       "3   furniture  south africa       offline              1                4   \n",
       "4      makeup      pakistan        online              0                5   \n",
       "\n",
       "   country_encode  purchase type_encode  \n",
       "0               8                     1  \n",
       "1               9                     0  \n",
       "2               5                     1  \n",
       "3              10                     0  \n",
       "4               9                     1  "
      ]
     },
     "execution_count": 71,
     "metadata": {},
     "output_type": "execute_result"
    }
   ],
   "source": [
    "customer.head()"
   ]
  },
  {
   "cell_type": "markdown",
   "metadata": {},
   "source": [
    "##### Scaling down spending score, quantity purchased, income to values between 0-1"
   ]
  },
  {
   "cell_type": "code",
   "execution_count": 72,
   "metadata": {},
   "outputs": [],
   "source": [
    "scaler = preprocessing.MinMaxScaler()"
   ]
  },
  {
   "cell_type": "code",
   "execution_count": 73,
   "metadata": {},
   "outputs": [],
   "source": [
    "customer[['spending score', 'qty purchased', 'income']] = scaler.fit_transform(customer[['spending score', 'qty purchased', 'income']])"
   ]
  },
  {
   "cell_type": "code",
   "execution_count": 74,
   "metadata": {},
   "outputs": [
    {
     "data": {
      "text/html": [
       "<div>\n",
       "<style scoped>\n",
       "    .dataframe tbody tr th:only-of-type {\n",
       "        vertical-align: middle;\n",
       "    }\n",
       "\n",
       "    .dataframe tbody tr th {\n",
       "        vertical-align: top;\n",
       "    }\n",
       "\n",
       "    .dataframe thead th {\n",
       "        text-align: right;\n",
       "    }\n",
       "</style>\n",
       "<table border=\"1\" class=\"dataframe\">\n",
       "  <thead>\n",
       "    <tr style=\"text-align: right;\">\n",
       "      <th></th>\n",
       "      <th>id</th>\n",
       "      <th>name</th>\n",
       "      <th>income</th>\n",
       "      <th>age</th>\n",
       "      <th>gender</th>\n",
       "      <th>spending score</th>\n",
       "      <th>qty purchased</th>\n",
       "      <th>category</th>\n",
       "      <th>country</th>\n",
       "      <th>purchase type</th>\n",
       "      <th>gender_encode</th>\n",
       "      <th>category_encode</th>\n",
       "      <th>country_encode</th>\n",
       "      <th>purchase type_encode</th>\n",
       "    </tr>\n",
       "  </thead>\n",
       "  <tbody>\n",
       "    <tr>\n",
       "      <th>0</th>\n",
       "      <td>1</td>\n",
       "      <td>A</td>\n",
       "      <td>0.522288</td>\n",
       "      <td>-2</td>\n",
       "      <td>Male</td>\n",
       "      <td>0.969388</td>\n",
       "      <td>0.025</td>\n",
       "      <td>books</td>\n",
       "      <td>new zealand</td>\n",
       "      <td>online</td>\n",
       "      <td>1</td>\n",
       "      <td>1</td>\n",
       "      <td>8</td>\n",
       "      <td>1</td>\n",
       "    </tr>\n",
       "    <tr>\n",
       "      <th>1</th>\n",
       "      <td>2</td>\n",
       "      <td>B</td>\n",
       "      <td>0.771673</td>\n",
       "      <td>27</td>\n",
       "      <td>Female</td>\n",
       "      <td>0.673469</td>\n",
       "      <td>0.150</td>\n",
       "      <td>books</td>\n",
       "      <td>pakistan</td>\n",
       "      <td>offline</td>\n",
       "      <td>0</td>\n",
       "      <td>1</td>\n",
       "      <td>9</td>\n",
       "      <td>0</td>\n",
       "    </tr>\n",
       "    <tr>\n",
       "      <th>2</th>\n",
       "      <td>3</td>\n",
       "      <td>C</td>\n",
       "      <td>0.853120</td>\n",
       "      <td>7</td>\n",
       "      <td>Female</td>\n",
       "      <td>0.775510</td>\n",
       "      <td>0.800</td>\n",
       "      <td>electronic</td>\n",
       "      <td>korea</td>\n",
       "      <td>online</td>\n",
       "      <td>0</td>\n",
       "      <td>3</td>\n",
       "      <td>5</td>\n",
       "      <td>1</td>\n",
       "    </tr>\n",
       "    <tr>\n",
       "      <th>3</th>\n",
       "      <td>4</td>\n",
       "      <td>D</td>\n",
       "      <td>0.363611</td>\n",
       "      <td>9</td>\n",
       "      <td>Male</td>\n",
       "      <td>0.336735</td>\n",
       "      <td>0.475</td>\n",
       "      <td>furniture</td>\n",
       "      <td>south africa</td>\n",
       "      <td>offline</td>\n",
       "      <td>1</td>\n",
       "      <td>4</td>\n",
       "      <td>10</td>\n",
       "      <td>0</td>\n",
       "    </tr>\n",
       "    <tr>\n",
       "      <th>4</th>\n",
       "      <td>5</td>\n",
       "      <td>E</td>\n",
       "      <td>0.166759</td>\n",
       "      <td>41</td>\n",
       "      <td>Female</td>\n",
       "      <td>0.520408</td>\n",
       "      <td>0.600</td>\n",
       "      <td>makeup</td>\n",
       "      <td>pakistan</td>\n",
       "      <td>online</td>\n",
       "      <td>0</td>\n",
       "      <td>5</td>\n",
       "      <td>9</td>\n",
       "      <td>1</td>\n",
       "    </tr>\n",
       "  </tbody>\n",
       "</table>\n",
       "</div>"
      ],
      "text/plain": [
       "   id name    income  age  gender  spending score  qty purchased    category  \\\n",
       "0   1    A  0.522288   -2    Male        0.969388          0.025       books   \n",
       "1   2    B  0.771673   27  Female        0.673469          0.150       books   \n",
       "2   3    C  0.853120    7  Female        0.775510          0.800  electronic   \n",
       "3   4    D  0.363611    9    Male        0.336735          0.475   furniture   \n",
       "4   5    E  0.166759   41  Female        0.520408          0.600      makeup   \n",
       "\n",
       "        country purchase type  gender_encode  category_encode  country_encode  \\\n",
       "0   new zealand        online              1                1               8   \n",
       "1      pakistan       offline              0                1               9   \n",
       "2         korea        online              0                3               5   \n",
       "3  south africa       offline              1                4              10   \n",
       "4      pakistan        online              0                5               9   \n",
       "\n",
       "   purchase type_encode  \n",
       "0                     1  \n",
       "1                     0  \n",
       "2                     1  \n",
       "3                     0  \n",
       "4                     1  "
      ]
     },
     "execution_count": 74,
     "metadata": {},
     "output_type": "execute_result"
    }
   ],
   "source": [
    "customer.head()"
   ]
  },
  {
   "cell_type": "markdown",
   "metadata": {},
   "source": [
    "##### Data binning for age"
   ]
  },
  {
   "cell_type": "code",
   "execution_count": 75,
   "metadata": {},
   "outputs": [],
   "source": [
    "min_age = customer['age'].min()\n",
    "max_age = customer['age'].max()"
   ]
  },
  {
   "cell_type": "code",
   "execution_count": 76,
   "metadata": {},
   "outputs": [],
   "source": [
    "customer['age groups'] = pd.cut(x = customer['age'], bins = [min_age, 12, 19, 28, 40, max_age], labels = ['child', 'teen','adult', 'middle aged', 'old'], include_lowest = True)"
   ]
  },
  {
   "cell_type": "code",
   "execution_count": 77,
   "metadata": {},
   "outputs": [
    {
     "data": {
      "text/html": [
       "<div>\n",
       "<style scoped>\n",
       "    .dataframe tbody tr th:only-of-type {\n",
       "        vertical-align: middle;\n",
       "    }\n",
       "\n",
       "    .dataframe tbody tr th {\n",
       "        vertical-align: top;\n",
       "    }\n",
       "\n",
       "    .dataframe thead th {\n",
       "        text-align: right;\n",
       "    }\n",
       "</style>\n",
       "<table border=\"1\" class=\"dataframe\">\n",
       "  <thead>\n",
       "    <tr style=\"text-align: right;\">\n",
       "      <th></th>\n",
       "      <th>id</th>\n",
       "      <th>name</th>\n",
       "      <th>income</th>\n",
       "      <th>age</th>\n",
       "      <th>gender</th>\n",
       "      <th>spending score</th>\n",
       "      <th>qty purchased</th>\n",
       "      <th>category</th>\n",
       "      <th>country</th>\n",
       "      <th>purchase type</th>\n",
       "      <th>gender_encode</th>\n",
       "      <th>category_encode</th>\n",
       "      <th>country_encode</th>\n",
       "      <th>purchase type_encode</th>\n",
       "      <th>age groups</th>\n",
       "    </tr>\n",
       "  </thead>\n",
       "  <tbody>\n",
       "    <tr>\n",
       "      <th>0</th>\n",
       "      <td>1</td>\n",
       "      <td>A</td>\n",
       "      <td>0.522288</td>\n",
       "      <td>-2</td>\n",
       "      <td>Male</td>\n",
       "      <td>0.969388</td>\n",
       "      <td>0.025</td>\n",
       "      <td>books</td>\n",
       "      <td>new zealand</td>\n",
       "      <td>online</td>\n",
       "      <td>1</td>\n",
       "      <td>1</td>\n",
       "      <td>8</td>\n",
       "      <td>1</td>\n",
       "      <td>child</td>\n",
       "    </tr>\n",
       "    <tr>\n",
       "      <th>1</th>\n",
       "      <td>2</td>\n",
       "      <td>B</td>\n",
       "      <td>0.771673</td>\n",
       "      <td>27</td>\n",
       "      <td>Female</td>\n",
       "      <td>0.673469</td>\n",
       "      <td>0.150</td>\n",
       "      <td>books</td>\n",
       "      <td>pakistan</td>\n",
       "      <td>offline</td>\n",
       "      <td>0</td>\n",
       "      <td>1</td>\n",
       "      <td>9</td>\n",
       "      <td>0</td>\n",
       "      <td>adult</td>\n",
       "    </tr>\n",
       "    <tr>\n",
       "      <th>2</th>\n",
       "      <td>3</td>\n",
       "      <td>C</td>\n",
       "      <td>0.853120</td>\n",
       "      <td>7</td>\n",
       "      <td>Female</td>\n",
       "      <td>0.775510</td>\n",
       "      <td>0.800</td>\n",
       "      <td>electronic</td>\n",
       "      <td>korea</td>\n",
       "      <td>online</td>\n",
       "      <td>0</td>\n",
       "      <td>3</td>\n",
       "      <td>5</td>\n",
       "      <td>1</td>\n",
       "      <td>child</td>\n",
       "    </tr>\n",
       "    <tr>\n",
       "      <th>3</th>\n",
       "      <td>4</td>\n",
       "      <td>D</td>\n",
       "      <td>0.363611</td>\n",
       "      <td>9</td>\n",
       "      <td>Male</td>\n",
       "      <td>0.336735</td>\n",
       "      <td>0.475</td>\n",
       "      <td>furniture</td>\n",
       "      <td>south africa</td>\n",
       "      <td>offline</td>\n",
       "      <td>1</td>\n",
       "      <td>4</td>\n",
       "      <td>10</td>\n",
       "      <td>0</td>\n",
       "      <td>child</td>\n",
       "    </tr>\n",
       "    <tr>\n",
       "      <th>4</th>\n",
       "      <td>5</td>\n",
       "      <td>E</td>\n",
       "      <td>0.166759</td>\n",
       "      <td>41</td>\n",
       "      <td>Female</td>\n",
       "      <td>0.520408</td>\n",
       "      <td>0.600</td>\n",
       "      <td>makeup</td>\n",
       "      <td>pakistan</td>\n",
       "      <td>online</td>\n",
       "      <td>0</td>\n",
       "      <td>5</td>\n",
       "      <td>9</td>\n",
       "      <td>1</td>\n",
       "      <td>old</td>\n",
       "    </tr>\n",
       "  </tbody>\n",
       "</table>\n",
       "</div>"
      ],
      "text/plain": [
       "   id name    income  age  gender  spending score  qty purchased    category  \\\n",
       "0   1    A  0.522288   -2    Male        0.969388          0.025       books   \n",
       "1   2    B  0.771673   27  Female        0.673469          0.150       books   \n",
       "2   3    C  0.853120    7  Female        0.775510          0.800  electronic   \n",
       "3   4    D  0.363611    9    Male        0.336735          0.475   furniture   \n",
       "4   5    E  0.166759   41  Female        0.520408          0.600      makeup   \n",
       "\n",
       "        country purchase type  gender_encode  category_encode  country_encode  \\\n",
       "0   new zealand        online              1                1               8   \n",
       "1      pakistan       offline              0                1               9   \n",
       "2         korea        online              0                3               5   \n",
       "3  south africa       offline              1                4              10   \n",
       "4      pakistan        online              0                5               9   \n",
       "\n",
       "   purchase type_encode age groups  \n",
       "0                     1      child  \n",
       "1                     0      adult  \n",
       "2                     1      child  \n",
       "3                     0      child  \n",
       "4                     1        old  "
      ]
     },
     "execution_count": 77,
     "metadata": {},
     "output_type": "execute_result"
    }
   ],
   "source": [
    "customer.head()"
   ]
  },
  {
   "cell_type": "code",
   "execution_count": null,
   "metadata": {},
   "outputs": [],
   "source": []
  },
  {
   "cell_type": "code",
   "execution_count": null,
   "metadata": {},
   "outputs": [],
   "source": []
  },
  {
   "cell_type": "markdown",
   "metadata": {},
   "source": [
    "2. Visualize the data and datasets and identify anomalies and identify types of data preprocessing to be performed <br>\n",
    "Box plot <br>\n",
    "Scatter plot <br>\n",
    "Histograms"
   ]
  },
  {
   "cell_type": "markdown",
   "metadata": {},
   "source": [
    "##### Histogram"
   ]
  },
  {
   "cell_type": "code",
   "execution_count": 78,
   "metadata": {},
   "outputs": [
    {
     "data": {
      "text/plain": [
       "<AxesSubplot:xlabel='age', ylabel='Count'>"
      ]
     },
     "execution_count": 78,
     "metadata": {},
     "output_type": "execute_result"
    },
    {
     "data": {
      "image/png": "[encoded data removed]",
      "text/plain": [
       "<Figure size 432x288 with 1 Axes>"
      ]
     },
     "metadata": {
      "needs_background": "light"
     },
     "output_type": "display_data"
    }
   ],
   "source": [
    "sns.histplot(customer['age'])"
   ]
  },
  {
   "cell_type": "markdown",
   "metadata": {},
   "source": [
    "Removing age < 17 as people with age < 17 do not hae stable earning"
   ]
  },
  {
   "cell_type": "code",
   "execution_count": 79,
   "metadata": {},
   "outputs": [],
   "source": [
    "customer.drop(customer[customer['age'] < 17].index, inplace = True)"
   ]
  },
  {
   "cell_type": "code",
   "execution_count": 80,
   "metadata": {},
   "outputs": [
    {
     "data": {
      "text/plain": [
       "<AxesSubplot:xlabel='age', ylabel='Count'>"
      ]
     },
     "execution_count": 80,
     "metadata": {},
     "output_type": "execute_result"
    },
    {
     "data": {
      "image/png": "[encoded data removed]",
      "text/plain": [
       "<Figure size 432x288 with 1 Axes>"
      ]
     },
     "metadata": {
      "needs_background": "light"
     },
     "output_type": "display_data"
    }
   ],
   "source": [
    "sns.histplot(customer['age'])"
   ]
  },
  {
   "cell_type": "markdown",
   "metadata": {},
   "source": [
    "##### Boxplot"
   ]
  },
  {
   "cell_type": "code",
   "execution_count": 83,
   "metadata": {},
   "outputs": [
    {
     "name": "stderr",
     "output_type": "stream",
     "text": [
      "c:\\users\\kriti\\appdata\\local\\programs\\python\\python38\\lib\\site-packages\\seaborn\\_decorators.py:36: FutureWarning: Pass the following variable as a keyword arg: x. From version 0.12, the only valid positional argument will be `data`, and passing other arguments without an explicit keyword will result in an error or misinterpretation.\n",
      "  warnings.warn(\n"
     ]
    },
    {
     "data": {
      "text/plain": [
       "<AxesSubplot:xlabel='qty purchased'>"
      ]
     },
     "execution_count": 83,
     "metadata": {},
     "output_type": "execute_result"
    },
    {
     "data": {
      "image/png": "[encoded data removed]",
      "text/plain": [
       "<Figure size 432x288 with 1 Axes>"
      ]
     },
     "metadata": {
      "needs_background": "light"
     },
     "output_type": "display_data"
    }
   ],
   "source": [
    "sns.boxplot(customer['qty purchased'])"
   ]
  },
  {
   "cell_type": "markdown",
   "metadata": {},
   "source": [
    "##### Scatterplot"
   ]
  },
  {
   "cell_type": "code",
   "execution_count": 94,
   "metadata": {},
   "outputs": [
    {
     "data": {
      "text/plain": [
       "<AxesSubplot:xlabel='age', ylabel='category'>"
      ]
     },
     "execution_count": 94,
     "metadata": {},
     "output_type": "execute_result"
    },
    {
     "data": {
      "image/png": "[encoded data removed]",
      "text/plain": [
       "<Figure size 432x288 with 1 Axes>"
      ]
     },
     "metadata": {
      "needs_background": "light"
     },
     "output_type": "display_data"
    }
   ],
   "source": [
    "sns.scatterplot(data = customer, x = customer['age'], y = customer['category'], hue = customer['gender'])"
   ]
  },
  {
   "cell_type": "code",
   "execution_count": null,
   "metadata": {},
   "outputs": [],
   "source": []
  },
  {
   "cell_type": "code",
   "execution_count": null,
   "metadata": {},
   "outputs": [],
   "source": []
  },
  {
   "cell_type": "markdown",
   "metadata": {},
   "source": [
    "3. Find useful patterns and associations using the Apriori approach."
   ]
  },
  {
   "cell_type": "code",
   "execution_count": 126,
   "metadata": {},
   "outputs": [],
   "source": [
    "market_basket = pd.read_csv('market_basket.csv')"
   ]
  },
  {
   "cell_type": "code",
   "execution_count": 128,
   "metadata": {},
   "outputs": [
    {
     "data": {
      "text/html": [
       "<div>\n",
       "<style scoped>\n",
       "    .dataframe tbody tr th:only-of-type {\n",
       "        vertical-align: middle;\n",
       "    }\n",
       "\n",
       "    .dataframe tbody tr th {\n",
       "        vertical-align: top;\n",
       "    }\n",
       "\n",
       "    .dataframe thead th {\n",
       "        text-align: right;\n",
       "    }\n",
       "</style>\n",
       "<table border=\"1\" class=\"dataframe\">\n",
       "  <thead>\n",
       "    <tr style=\"text-align: right;\">\n",
       "      <th></th>\n",
       "      <th>t_id</th>\n",
       "      <th>beer</th>\n",
       "      <th>coke</th>\n",
       "      <th>diaper</th>\n",
       "      <th>potato</th>\n",
       "      <th>tomato</th>\n",
       "      <th>onion</th>\n",
       "      <th>chilli</th>\n",
       "    </tr>\n",
       "  </thead>\n",
       "  <tbody>\n",
       "    <tr>\n",
       "      <th>0</th>\n",
       "      <td>1</td>\n",
       "      <td>0</td>\n",
       "      <td>1</td>\n",
       "      <td>1</td>\n",
       "      <td>0</td>\n",
       "      <td>0</td>\n",
       "      <td>0</td>\n",
       "      <td>1</td>\n",
       "    </tr>\n",
       "    <tr>\n",
       "      <th>1</th>\n",
       "      <td>2</td>\n",
       "      <td>1</td>\n",
       "      <td>0</td>\n",
       "      <td>0</td>\n",
       "      <td>0</td>\n",
       "      <td>0</td>\n",
       "      <td>0</td>\n",
       "      <td>1</td>\n",
       "    </tr>\n",
       "    <tr>\n",
       "      <th>2</th>\n",
       "      <td>3</td>\n",
       "      <td>0</td>\n",
       "      <td>1</td>\n",
       "      <td>0</td>\n",
       "      <td>0</td>\n",
       "      <td>0</td>\n",
       "      <td>0</td>\n",
       "      <td>1</td>\n",
       "    </tr>\n",
       "    <tr>\n",
       "      <th>3</th>\n",
       "      <td>4</td>\n",
       "      <td>0</td>\n",
       "      <td>0</td>\n",
       "      <td>1</td>\n",
       "      <td>1</td>\n",
       "      <td>1</td>\n",
       "      <td>0</td>\n",
       "      <td>1</td>\n",
       "    </tr>\n",
       "    <tr>\n",
       "      <th>4</th>\n",
       "      <td>5</td>\n",
       "      <td>0</td>\n",
       "      <td>1</td>\n",
       "      <td>1</td>\n",
       "      <td>0</td>\n",
       "      <td>0</td>\n",
       "      <td>0</td>\n",
       "      <td>0</td>\n",
       "    </tr>\n",
       "  </tbody>\n",
       "</table>\n",
       "</div>"
      ],
      "text/plain": [
       "   t_id  beer  coke  diaper  potato  tomato  onion  chilli\n",
       "0     1     0     1       1       0       0      0       1\n",
       "1     2     1     0       0       0       0      0       1\n",
       "2     3     0     1       0       0       0      0       1\n",
       "3     4     0     0       1       1       1      0       1\n",
       "4     5     0     1       1       0       0      0       0"
      ]
     },
     "execution_count": 128,
     "metadata": {},
     "output_type": "execute_result"
    }
   ],
   "source": [
    "market_basket.head()"
   ]
  },
  {
   "cell_type": "code",
   "execution_count": 132,
   "metadata": {},
   "outputs": [],
   "source": [
    "market_basket.drop(['t_id'], axis = 1, inplace = True)"
   ]
  },
  {
   "cell_type": "markdown",
   "metadata": {},
   "source": [
    "List of lists of items"
   ]
  },
  {
   "cell_type": "code",
   "execution_count": 133,
   "metadata": {},
   "outputs": [],
   "source": [
    "list_of_transactions = []\n",
    "\n",
    "for i in range(len(market_basket)):\n",
    "    transaction = []\n",
    "    for j in range(len(market_basket.columns)):\n",
    "        if market_basket.values[i][j] == 1:\n",
    "            transaction.append(market_basket.columns[j])\n",
    "    list_of_transactions.append(transaction)"
   ]
  },
  {
   "cell_type": "code",
   "execution_count": 135,
   "metadata": {},
   "outputs": [],
   "source": [
    "for li in list_of_transactions:\n",
    "    if len(li) == 0:\n",
    "        list_of_transactions.remove(li)"
   ]
  },
  {
   "cell_type": "code",
   "execution_count": 164,
   "metadata": {},
   "outputs": [
    {
     "data": {
      "text/plain": [
       "[['coke', 'diaper', 'chilli'], ['beer', 'chilli'], ['coke', 'chilli']]"
      ]
     },
     "execution_count": 164,
     "metadata": {},
     "output_type": "execute_result"
    }
   ],
   "source": [
    "list_of_transactions[:3]"
   ]
  },
  {
   "cell_type": "code",
   "execution_count": 156,
   "metadata": {},
   "outputs": [],
   "source": [
    "min_support = 0.4\n",
    "min_confidence = 0.6"
   ]
  },
  {
   "cell_type": "code",
   "execution_count": 162,
   "metadata": {},
   "outputs": [],
   "source": [
    "rules = list(apriori(transactions = list_of_transactions, min_sup = min_support, min_confidence = min_confidence))"
   ]
  },
  {
   "cell_type": "code",
   "execution_count": 165,
   "metadata": {},
   "outputs": [
    {
     "data": {
      "text/plain": [
       "RelationRecord(items=frozenset({'diaper', 'beer'}), support=0.3333333333333333, ordered_statistics=[OrderedStatistic(items_base=frozenset({'beer'}), items_add=frozenset({'diaper'}), confidence=0.6216216216216215, lift=1.1287339971550496), OrderedStatistic(items_base=frozenset({'diaper'}), items_add=frozenset({'beer'}), confidence=0.6052631578947368, lift=1.1287339971550496)])"
      ]
     },
     "execution_count": 165,
     "metadata": {},
     "output_type": "execute_result"
    }
   ],
   "source": [
    "rules[0]"
   ]
  },
  {
   "cell_type": "code",
   "execution_count": 182,
   "metadata": {},
   "outputs": [
    {
     "name": "stdout",
     "output_type": "stream",
     "text": [
      "beer -> diaper  confidence =  0.6216216216216215\n",
      "tomato -> beer  confidence =  0.6451612903225806\n",
      "tomato -> diaper  confidence =  0.6129032258064516\n",
      "chilli -> diaper  confidence =  0.625\n",
      "coke -> diaper  confidence =  0.6153846153846154\n",
      "coke -> beer  confidence =  0.6363636363636365\n",
      "coke -> tomato  confidence =  0.6923076923076923\n",
      "diaper -> tomato  confidence =  0.6521739130434783\n",
      "tomato -> beer  confidence =  0.6428571428571428\n",
      "chilli -> diaper  confidence =  0.6\n",
      "coke -> tomato  confidence =  0.6\n",
      "onion -> diaper  confidence =  0.6666666666666667\n",
      "coke -> tomato  confidence =  0.875\n"
     ]
    }
   ],
   "source": [
    "for rule in rules:\n",
    "    lhs = list(rule[2][0][0])[0]\n",
    "    rhs = list(rule[2][0][1])[0]\n",
    "    conf = rule[2][0][2]\n",
    "    print(lhs, '->', rhs, ' confidence = ', conf)"
   ]
  },
  {
   "cell_type": "code",
   "execution_count": null,
   "metadata": {},
   "outputs": [],
   "source": []
  },
  {
   "cell_type": "code",
   "execution_count": null,
   "metadata": {},
   "outputs": [],
   "source": []
  },
  {
   "cell_type": "markdown",
   "metadata": {},
   "source": [
    "4. Find useful patterns and associations using the Frequent Pattern Tree Approach."
   ]
  },
  {
   "cell_type": "code",
   "execution_count": 194,
   "metadata": {},
   "outputs": [],
   "source": [
    "frequent_itemsets = pyfpgrowth.find_frequent_patterns(list_of_transactions, min_support)"
   ]
  },
  {
   "cell_type": "code",
   "execution_count": 195,
   "metadata": {},
   "outputs": [],
   "source": [
    "rules = pyfpgrowth.generate_association_rules(frequent_itemsets, min_confidence)"
   ]
  },
  {
   "cell_type": "code",
   "execution_count": 204,
   "metadata": {},
   "outputs": [
    {
     "data": {
      "text/plain": [
       "{('beer', 'chilli', 'coke', 'potato'): (('tomato',), 0.6666666666666666),\n",
       " ('beer', 'chilli', 'coke', 'tomato'): (('potato',), 1.0),\n",
       " ('beer', 'chilli', 'potato', 'tomato'): (('diaper',), 0.6666666666666666),\n",
       " ('chilli', 'coke', 'potato', 'tomato'): (('beer',), 1.0),\n",
       " ('beer', 'chilli', 'coke', 'diaper'): (('tomato',), 1.0),\n",
       " ('beer', 'chilli', 'coke', 'diaper', 'potato'): (('tomato',), 1.0),\n",
       " ('beer', 'chilli', 'coke', 'diaper', 'tomato'): (('potato',), 1.0),\n",
       " ('chilli', 'coke', 'diaper', 'potato', 'tomato'): (('beer',), 1.0),\n",
       " ('beer', 'coke', 'diaper', 'potato'): (('tomato',), 0.75),\n",
       " ('beer', 'coke', 'potato', 'tomato'): (('diaper',), 0.75),\n",
       " ('beer', 'diaper', 'potato', 'tomato'): (('coke',), 0.6),\n",
       " ('coke', 'diaper', 'potato', 'tomato'): (('beer',), 1.0),\n",
       " ('beer', 'chilli', 'coke'): (('potato',), 0.75),\n",
       " ('beer', 'coke', 'diaper'): (('tomato',), 0.875),\n",
       " ('beer', 'coke', 'tomato'): (('diaper',), 0.7777777777777778),\n",
       " ('coke', 'diaper', 'tomato'): (('beer',), 0.7777777777777778),\n",
       " ('coke', 'tomato'): (('diaper',), 0.6428571428571429),\n",
       " ('coke', 'diaper'): (('tomato',), 0.6),\n",
       " ('coke', 'diaper', 'onion'): (('tomato',), 0.6666666666666666),\n",
       " ('coke', 'onion', 'tomato'): (('diaper',), 0.8),\n",
       " ('beer', 'coke', 'diaper', 'onion'): (('potato',), 0.6666666666666666),\n",
       " ('beer', 'coke', 'onion', 'tomato'): (('diaper',), 1.0),\n",
       " ('chilli', 'coke', 'onion', 'tomato'): (('diaper',), 1.0),\n",
       " ('beer', 'chilli', 'diaper', 'onion'): (('tomato',), 0.6666666666666666),\n",
       " ('beer', 'chilli', 'onion', 'tomato'): (('diaper',), 1.0),\n",
       " ('chilli', 'diaper', 'onion', 'tomato'): (('beer',), 0.6666666666666666),\n",
       " ('beer', 'diaper', 'onion'): (('tomato',), 0.625),\n",
       " ('beer', 'onion', 'tomato'): (('diaper',), 0.8333333333333334),\n",
       " ('diaper', 'onion', 'tomato'): (('beer',), 0.625),\n",
       " ('coke', 'onion', 'potato', 'tomato'): (('beer', 'diaper'), 1.0),\n",
       " ('beer', 'coke', 'onion', 'potato', 'tomato'): (('diaper',), 1.0),\n",
       " ('coke', 'diaper', 'onion', 'potato', 'tomato'): (('beer',), 1.0),\n",
       " ('coke', 'diaper', 'onion', 'potato'): (('beer',), 0.6666666666666666),\n",
       " ('beer', 'coke', 'onion'): (('potato',), 0.6666666666666666),\n",
       " ('beer', 'onion', 'potato', 'tomato'): (('diaper',), 0.6666666666666666),\n",
       " ('diaper', 'onion', 'potato', 'tomato'): (('beer',), 0.6666666666666666),\n",
       " ('diaper', 'potato', 'tomato'): (('beer',), 0.7142857142857143),\n",
       " ('chilli', 'diaper', 'potato', 'tomato'): (('beer',), 0.6666666666666666),\n",
       " ('beer', 'chilli', 'diaper'): (('tomato',), 0.6),\n",
       " ('chilli', 'diaper', 'tomato'): (('beer',), 0.75),\n",
       " ('beer', 'diaper'): (('tomato',), 0.6521739130434783),\n",
       " ('beer', 'tomato'): (('diaper',), 0.75),\n",
       " ('diaper', 'tomato'): (('beer',), 0.7894736842105263),\n",
       " ('beer', 'chilli', 'potato'): (('diaper',), 0.6666666666666666),\n",
       " ('beer', 'chilli'): (('diaper',), 0.625),\n",
       " ('beer',): (('diaper',), 0.6216216216216216),\n",
       " ('diaper',): (('beer',), 0.6052631578947368)}"
      ]
     },
     "execution_count": 204,
     "metadata": {},
     "output_type": "execute_result"
    }
   ],
   "source": [
    "rules"
   ]
  },
  {
   "cell_type": "code",
   "execution_count": null,
   "metadata": {},
   "outputs": [],
   "source": []
  },
  {
   "cell_type": "code",
   "execution_count": null,
   "metadata": {},
   "outputs": [],
   "source": []
  },
  {
   "cell_type": "markdown",
   "metadata": {},
   "source": [
    "5. Model Classifiers, evaluate performance and visualize the results. ()"
   ]
  },
  {
   "cell_type": "markdown",
   "metadata": {},
   "source": [
    "##### Splitting dataset"
   ]
  },
  {
   "cell_type": "code",
   "execution_count": 207,
   "metadata": {},
   "outputs": [
    {
     "data": {
      "text/html": [
       "<div>\n",
       "<style scoped>\n",
       "    .dataframe tbody tr th:only-of-type {\n",
       "        vertical-align: middle;\n",
       "    }\n",
       "\n",
       "    .dataframe tbody tr th {\n",
       "        vertical-align: top;\n",
       "    }\n",
       "\n",
       "    .dataframe thead th {\n",
       "        text-align: right;\n",
       "    }\n",
       "</style>\n",
       "<table border=\"1\" class=\"dataframe\">\n",
       "  <thead>\n",
       "    <tr style=\"text-align: right;\">\n",
       "      <th></th>\n",
       "      <th>id</th>\n",
       "      <th>name</th>\n",
       "      <th>income</th>\n",
       "      <th>age</th>\n",
       "      <th>gender</th>\n",
       "      <th>spending score</th>\n",
       "      <th>qty purchased</th>\n",
       "      <th>category</th>\n",
       "      <th>country</th>\n",
       "      <th>purchase type</th>\n",
       "      <th>gender_encode</th>\n",
       "      <th>category_encode</th>\n",
       "      <th>country_encode</th>\n",
       "      <th>purchase type_encode</th>\n",
       "      <th>age groups</th>\n",
       "    </tr>\n",
       "  </thead>\n",
       "  <tbody>\n",
       "    <tr>\n",
       "      <th>1</th>\n",
       "      <td>2</td>\n",
       "      <td>B</td>\n",
       "      <td>0.771673</td>\n",
       "      <td>27</td>\n",
       "      <td>Female</td>\n",
       "      <td>0.673469</td>\n",
       "      <td>0.150</td>\n",
       "      <td>books</td>\n",
       "      <td>pakistan</td>\n",
       "      <td>offline</td>\n",
       "      <td>0</td>\n",
       "      <td>1</td>\n",
       "      <td>9</td>\n",
       "      <td>0</td>\n",
       "      <td>adult</td>\n",
       "    </tr>\n",
       "    <tr>\n",
       "      <th>4</th>\n",
       "      <td>5</td>\n",
       "      <td>E</td>\n",
       "      <td>0.166759</td>\n",
       "      <td>41</td>\n",
       "      <td>Female</td>\n",
       "      <td>0.520408</td>\n",
       "      <td>0.600</td>\n",
       "      <td>makeup</td>\n",
       "      <td>pakistan</td>\n",
       "      <td>online</td>\n",
       "      <td>0</td>\n",
       "      <td>5</td>\n",
       "      <td>9</td>\n",
       "      <td>1</td>\n",
       "      <td>old</td>\n",
       "    </tr>\n",
       "    <tr>\n",
       "      <th>7</th>\n",
       "      <td>8</td>\n",
       "      <td>H</td>\n",
       "      <td>0.131143</td>\n",
       "      <td>31</td>\n",
       "      <td>Female</td>\n",
       "      <td>0.520408</td>\n",
       "      <td>0.075</td>\n",
       "      <td>makeup</td>\n",
       "      <td>korea</td>\n",
       "      <td>online</td>\n",
       "      <td>0</td>\n",
       "      <td>5</td>\n",
       "      <td>5</td>\n",
       "      <td>1</td>\n",
       "      <td>middle aged</td>\n",
       "    </tr>\n",
       "    <tr>\n",
       "      <th>8</th>\n",
       "      <td>9</td>\n",
       "      <td>I</td>\n",
       "      <td>0.381695</td>\n",
       "      <td>35</td>\n",
       "      <td>Female</td>\n",
       "      <td>0.693878</td>\n",
       "      <td>0.600</td>\n",
       "      <td>electronic</td>\n",
       "      <td>australia</td>\n",
       "      <td>online</td>\n",
       "      <td>0</td>\n",
       "      <td>3</td>\n",
       "      <td>1</td>\n",
       "      <td>1</td>\n",
       "      <td>middle aged</td>\n",
       "    </tr>\n",
       "    <tr>\n",
       "      <th>10</th>\n",
       "      <td>11</td>\n",
       "      <td>K</td>\n",
       "      <td>0.614440</td>\n",
       "      <td>30</td>\n",
       "      <td>Male</td>\n",
       "      <td>0.775510</td>\n",
       "      <td>1.000</td>\n",
       "      <td>makeup</td>\n",
       "      <td>korea</td>\n",
       "      <td>online</td>\n",
       "      <td>1</td>\n",
       "      <td>5</td>\n",
       "      <td>5</td>\n",
       "      <td>1</td>\n",
       "      <td>middle aged</td>\n",
       "    </tr>\n",
       "  </tbody>\n",
       "</table>\n",
       "</div>"
      ],
      "text/plain": [
       "    id name    income  age  gender  spending score  qty purchased    category  \\\n",
       "1    2    B  0.771673   27  Female        0.673469          0.150       books   \n",
       "4    5    E  0.166759   41  Female        0.520408          0.600      makeup   \n",
       "7    8    H  0.131143   31  Female        0.520408          0.075      makeup   \n",
       "8    9    I  0.381695   35  Female        0.693878          0.600  electronic   \n",
       "10  11    K  0.614440   30    Male        0.775510          1.000      makeup   \n",
       "\n",
       "      country purchase type  gender_encode  category_encode  country_encode  \\\n",
       "1    pakistan       offline              0                1               9   \n",
       "4    pakistan        online              0                5               9   \n",
       "7       korea        online              0                5               5   \n",
       "8   australia        online              0                3               1   \n",
       "10      korea        online              1                5               5   \n",
       "\n",
       "    purchase type_encode   age groups  \n",
       "1                      0        adult  \n",
       "4                      1          old  \n",
       "7                      1  middle aged  \n",
       "8                      1  middle aged  \n",
       "10                     1  middle aged  "
      ]
     },
     "execution_count": 207,
     "metadata": {},
     "output_type": "execute_result"
    }
   ],
   "source": [
    "customer.head()"
   ]
  },
  {
   "cell_type": "code",
   "execution_count": 270,
   "metadata": {},
   "outputs": [],
   "source": [
    "features = customer[['income','age','spending score','category_encode']]\n",
    "target = customer['gender_encode']"
   ]
  },
  {
   "cell_type": "code",
   "execution_count": 271,
   "metadata": {},
   "outputs": [],
   "source": [
    "x_train, x_test, y_train, y_test = train_test_split(features, target, test_size = 0.3, random_state = 0)"
   ]
  },
  {
   "cell_type": "markdown",
   "metadata": {},
   "source": [
    "##### Naive Bayes"
   ]
  },
  {
   "cell_type": "code",
   "execution_count": 272,
   "metadata": {},
   "outputs": [
    {
     "data": {
      "text/plain": [
       "0.4666666666666667"
      ]
     },
     "execution_count": 272,
     "metadata": {},
     "output_type": "execute_result"
    }
   ],
   "source": [
    "naivebayes = GaussianNB()\n",
    "naivebayes.fit(x_train, y_train)\n",
    "predicted_label = naivebayes.predict(x_test)\n",
    "naivebayes.score(x_test, y_test)"
   ]
  },
  {
   "cell_type": "code",
   "execution_count": 273,
   "metadata": {},
   "outputs": [
    {
     "name": "stdout",
     "output_type": "stream",
     "text": [
      "              precision    recall  f1-score   support\n",
      "\n",
      "           0       0.22      0.67      0.33         3\n",
      "           1       0.83      0.42      0.56        12\n",
      "\n",
      "    accuracy                           0.47        15\n",
      "   macro avg       0.53      0.54      0.44        15\n",
      "weighted avg       0.71      0.47      0.51        15\n",
      "\n",
      "[[2 1]\n",
      " [7 5]]\n",
      "AUC ROC score 0.4722222222222222\n"
     ]
    },
    {
     "data": {
      "text/plain": [
       "[]"
      ]
     },
     "execution_count": 273,
     "metadata": {},
     "output_type": "execute_result"
    },
    {
     "data": {
      "image/png": "[encoded data removed]",
      "text/plain": [
       "<Figure size 432x288 with 1 Axes>"
      ]
     },
     "metadata": {
      "needs_background": "light"
     },
     "output_type": "display_data"
    }
   ],
   "source": [
    "print(metrics.classification_report(y_test, predicted_label))\n",
    "print(metrics.confusion_matrix(y_test, predicted_label))\n",
    "probability = naivebayes.predict_proba(x_test)[:, 1]\n",
    "print('AUC ROC score', metrics.roc_auc_score(y_test, probability))\n",
    "fpr, tpr, threshold = metrics.roc_curve(y_test, probability)\n",
    "plt.plot(fpr, tpr, color = 'orange')\n",
    "plt.plot([0,1],[0,1], linestyle = '--')\n",
    "plt.xlabel('fpr')\n",
    "plt.ylabel('tpr')\n",
    "plt.plot()"
   ]
  },
  {
   "cell_type": "markdown",
   "metadata": {},
   "source": [
    "##### Decision tree"
   ]
  },
  {
   "cell_type": "code",
   "execution_count": 274,
   "metadata": {},
   "outputs": [
    {
     "data": {
      "text/plain": [
       "0.5333333333333333"
      ]
     },
     "execution_count": 274,
     "metadata": {},
     "output_type": "execute_result"
    }
   ],
   "source": [
    "dt = DecisionTreeClassifier()\n",
    "dt.fit(x_train, y_train)\n",
    "predicted_label = dt.predict(x_test)\n",
    "dt.score(x_test, y_test)"
   ]
  },
  {
   "cell_type": "code",
   "execution_count": 279,
   "metadata": {},
   "outputs": [
    {
     "name": "stdout",
     "output_type": "stream",
     "text": [
      "              precision    recall  f1-score   support\n",
      "\n",
      "           0       0.17      0.33      0.22         3\n",
      "           1       0.78      0.58      0.67        12\n",
      "\n",
      "    accuracy                           0.53        15\n",
      "   macro avg       0.47      0.46      0.44        15\n",
      "weighted avg       0.66      0.53      0.58        15\n",
      "\n",
      "[[1 2]\n",
      " [5 7]]\n",
      "0.45833333333333337\n"
     ]
    },
    {
     "data": {
      "text/plain": [
       "[]"
      ]
     },
     "execution_count": 279,
     "metadata": {},
     "output_type": "execute_result"
    },
    {
     "data": {
      "image/png": "[encoded data removed]",
      "text/plain": [
       "<Figure size 432x288 with 1 Axes>"
      ]
     },
     "metadata": {
      "needs_background": "light"
     },
     "output_type": "display_data"
    }
   ],
   "source": [
    "print(metrics.classification_report(y_test, predicted_label))\n",
    "print(metrics.confusion_matrix(y_test, predicted_label))\n",
    "probability = dt.predict_proba(x_test)[:, 1]\n",
    "print(metrics.roc_auc_score(y_test, probability))\n",
    "fpr, tpr, threshold = metrics.roc_curve(y_test, probability)\n",
    "plt.xlabel('fpr')\n",
    "plt.ylabel('tpr')\n",
    "plt.plot(fpr, tpr, color = 'orange')\n",
    "plt.plot([0,1], [0,1], linestyle = '--')\n",
    "plt.plot()"
   ]
  },
  {
   "cell_type": "code",
   "execution_count": null,
   "metadata": {},
   "outputs": [],
   "source": []
  },
  {
   "cell_type": "code",
   "execution_count": null,
   "metadata": {},
   "outputs": [],
   "source": []
  },
  {
   "cell_type": "markdown",
   "metadata": {},
   "source": [
    "6. Use Ensemble methods of classification to model a dataset, evaluate the performance and visualize the results."
   ]
  },
  {
   "cell_type": "markdown",
   "metadata": {},
   "source": [
    "##### Bagging Classifier"
   ]
  },
  {
   "cell_type": "code",
   "execution_count": 283,
   "metadata": {},
   "outputs": [
    {
     "data": {
      "text/plain": [
       "0.6"
      ]
     },
     "execution_count": 283,
     "metadata": {},
     "output_type": "execute_result"
    }
   ],
   "source": [
    "bag = BaggingClassifier()\n",
    "bag.fit(x_train, y_train)\n",
    "predicted_label = bag.predict(x_test)\n",
    "bag.score(x_test, y_test)"
   ]
  },
  {
   "cell_type": "code",
   "execution_count": 284,
   "metadata": {},
   "outputs": [
    {
     "name": "stdout",
     "output_type": "stream",
     "text": [
      "              precision    recall  f1-score   support\n",
      "\n",
      "           0       0.20      0.33      0.25         3\n",
      "           1       0.80      0.67      0.73        12\n",
      "\n",
      "    accuracy                           0.60        15\n",
      "   macro avg       0.50      0.50      0.49        15\n",
      "weighted avg       0.68      0.60      0.63        15\n",
      "\n",
      "[[1 2]\n",
      " [4 8]]\n",
      "0.25\n"
     ]
    },
    {
     "data": {
      "text/plain": [
       "[]"
      ]
     },
     "execution_count": 284,
     "metadata": {},
     "output_type": "execute_result"
    },
    {
     "data": {
      "image/png": "[encoded data removed]",
      "text/plain": [
       "<Figure size 432x288 with 1 Axes>"
      ]
     },
     "metadata": {
      "needs_background": "light"
     },
     "output_type": "display_data"
    }
   ],
   "source": [
    "print(metrics.classification_report(y_test, predicted_label))\n",
    "print(metrics.confusion_matrix(y_test, predicted_label))\n",
    "probability = bag.predict_proba(x_test)[:, 1]\n",
    "print(metrics.roc_auc_score(y_test, probability))\n",
    "fpr, tpr, threshold = metrics.roc_curve(y_test, probability)\n",
    "plt.plot(fpr, tpr, color = 'orange')\n",
    "plt.plot([0,1],[0,1], linestyle = '--')\n",
    "plt.xlabel('fpr')\n",
    "plt.ylabel('tpr')\n",
    "plt.plot()"
   ]
  },
  {
   "cell_type": "code",
   "execution_count": 285,
   "metadata": {},
   "outputs": [
    {
     "data": {
      "text/plain": [
       "0.3333333333333333"
      ]
     },
     "execution_count": 285,
     "metadata": {},
     "output_type": "execute_result"
    }
   ],
   "source": [
    "ada = AdaBoostClassifier()\n",
    "ada.fit(x_train, y_train)\n",
    "predicted_label = ada.predict(x_test)\n",
    "ada.score(x_test, y_test)"
   ]
  },
  {
   "cell_type": "code",
   "execution_count": 287,
   "metadata": {},
   "outputs": [
    {
     "name": "stdout",
     "output_type": "stream",
     "text": [
      "              precision    recall  f1-score   support\n",
      "\n",
      "           0       0.00      0.00      0.00         3\n",
      "           1       0.62      0.42      0.50        12\n",
      "\n",
      "    accuracy                           0.33        15\n",
      "   macro avg       0.31      0.21      0.25        15\n",
      "weighted avg       0.50      0.33      0.40        15\n",
      "\n",
      "[[0 3]\n",
      " [7 5]]\n",
      "0.27777777777777785\n"
     ]
    },
    {
     "data": {
      "text/plain": [
       "Text(0, 0.5, 'tpr')"
      ]
     },
     "execution_count": 287,
     "metadata": {},
     "output_type": "execute_result"
    },
    {
     "data": {
      "image/png": "[encoded data removed]",
      "text/plain": [
       "<Figure size 432x288 with 1 Axes>"
      ]
     },
     "metadata": {
      "needs_background": "light"
     },
     "output_type": "display_data"
    }
   ],
   "source": [
    "print(metrics.classification_report(y_test, predicted_label))\n",
    "print(metrics.confusion_matrix(y_test, predicted_label))\n",
    "probability = ada.predict_proba(x_test)[:, 1]\n",
    "print(metrics.roc_auc_score(y_test, probability))\n",
    "fpr, tpr, threshold = metrics.roc_curve(y_test, probability)\n",
    "plt.plot(fpr, tpr, color = 'orange')\n",
    "plt.plot([0,1], [0,1], linestyle = '--')\n",
    "plt.plot()\n",
    "plt.xlabel('fpr')\n",
    "plt.ylabel('tpr')"
   ]
  },
  {
   "cell_type": "code",
   "execution_count": null,
   "metadata": {},
   "outputs": [],
   "source": []
  },
  {
   "cell_type": "code",
   "execution_count": null,
   "metadata": {},
   "outputs": [],
   "source": []
  },
  {
   "cell_type": "markdown",
   "metadata": {},
   "source": [
    "7. Group the data in a dataset based on similarity by using partitioning methods.<br>"
   ]
  },
  {
   "cell_type": "markdown",
   "metadata": {},
   "source": [
    "##### kmeans "
   ]
  },
  {
   "cell_type": "markdown",
   "metadata": {},
   "source": [
    "Clustering based on age, gender, income into 3 clusters"
   ]
  },
  {
   "cell_type": "code",
   "execution_count": 288,
   "metadata": {},
   "outputs": [
    {
     "data": {
      "text/html": [
       "<div>\n",
       "<style scoped>\n",
       "    .dataframe tbody tr th:only-of-type {\n",
       "        vertical-align: middle;\n",
       "    }\n",
       "\n",
       "    .dataframe tbody tr th {\n",
       "        vertical-align: top;\n",
       "    }\n",
       "\n",
       "    .dataframe thead th {\n",
       "        text-align: right;\n",
       "    }\n",
       "</style>\n",
       "<table border=\"1\" class=\"dataframe\">\n",
       "  <thead>\n",
       "    <tr style=\"text-align: right;\">\n",
       "      <th></th>\n",
       "      <th>id</th>\n",
       "      <th>name</th>\n",
       "      <th>income</th>\n",
       "      <th>age</th>\n",
       "      <th>gender</th>\n",
       "      <th>spending score</th>\n",
       "      <th>qty purchased</th>\n",
       "      <th>category</th>\n",
       "      <th>country</th>\n",
       "      <th>purchase type</th>\n",
       "      <th>gender_encode</th>\n",
       "      <th>category_encode</th>\n",
       "      <th>country_encode</th>\n",
       "      <th>purchase type_encode</th>\n",
       "      <th>age groups</th>\n",
       "    </tr>\n",
       "  </thead>\n",
       "  <tbody>\n",
       "    <tr>\n",
       "      <th>1</th>\n",
       "      <td>2</td>\n",
       "      <td>B</td>\n",
       "      <td>0.771673</td>\n",
       "      <td>27</td>\n",
       "      <td>Female</td>\n",
       "      <td>0.673469</td>\n",
       "      <td>0.150</td>\n",
       "      <td>books</td>\n",
       "      <td>pakistan</td>\n",
       "      <td>offline</td>\n",
       "      <td>0</td>\n",
       "      <td>1</td>\n",
       "      <td>9</td>\n",
       "      <td>0</td>\n",
       "      <td>adult</td>\n",
       "    </tr>\n",
       "    <tr>\n",
       "      <th>4</th>\n",
       "      <td>5</td>\n",
       "      <td>E</td>\n",
       "      <td>0.166759</td>\n",
       "      <td>41</td>\n",
       "      <td>Female</td>\n",
       "      <td>0.520408</td>\n",
       "      <td>0.600</td>\n",
       "      <td>makeup</td>\n",
       "      <td>pakistan</td>\n",
       "      <td>online</td>\n",
       "      <td>0</td>\n",
       "      <td>5</td>\n",
       "      <td>9</td>\n",
       "      <td>1</td>\n",
       "      <td>old</td>\n",
       "    </tr>\n",
       "    <tr>\n",
       "      <th>7</th>\n",
       "      <td>8</td>\n",
       "      <td>H</td>\n",
       "      <td>0.131143</td>\n",
       "      <td>31</td>\n",
       "      <td>Female</td>\n",
       "      <td>0.520408</td>\n",
       "      <td>0.075</td>\n",
       "      <td>makeup</td>\n",
       "      <td>korea</td>\n",
       "      <td>online</td>\n",
       "      <td>0</td>\n",
       "      <td>5</td>\n",
       "      <td>5</td>\n",
       "      <td>1</td>\n",
       "      <td>middle aged</td>\n",
       "    </tr>\n",
       "    <tr>\n",
       "      <th>8</th>\n",
       "      <td>9</td>\n",
       "      <td>I</td>\n",
       "      <td>0.381695</td>\n",
       "      <td>35</td>\n",
       "      <td>Female</td>\n",
       "      <td>0.693878</td>\n",
       "      <td>0.600</td>\n",
       "      <td>electronic</td>\n",
       "      <td>australia</td>\n",
       "      <td>online</td>\n",
       "      <td>0</td>\n",
       "      <td>3</td>\n",
       "      <td>1</td>\n",
       "      <td>1</td>\n",
       "      <td>middle aged</td>\n",
       "    </tr>\n",
       "    <tr>\n",
       "      <th>10</th>\n",
       "      <td>11</td>\n",
       "      <td>K</td>\n",
       "      <td>0.614440</td>\n",
       "      <td>30</td>\n",
       "      <td>Male</td>\n",
       "      <td>0.775510</td>\n",
       "      <td>1.000</td>\n",
       "      <td>makeup</td>\n",
       "      <td>korea</td>\n",
       "      <td>online</td>\n",
       "      <td>1</td>\n",
       "      <td>5</td>\n",
       "      <td>5</td>\n",
       "      <td>1</td>\n",
       "      <td>middle aged</td>\n",
       "    </tr>\n",
       "  </tbody>\n",
       "</table>\n",
       "</div>"
      ],
      "text/plain": [
       "    id name    income  age  gender  spending score  qty purchased    category  \\\n",
       "1    2    B  0.771673   27  Female        0.673469          0.150       books   \n",
       "4    5    E  0.166759   41  Female        0.520408          0.600      makeup   \n",
       "7    8    H  0.131143   31  Female        0.520408          0.075      makeup   \n",
       "8    9    I  0.381695   35  Female        0.693878          0.600  electronic   \n",
       "10  11    K  0.614440   30    Male        0.775510          1.000      makeup   \n",
       "\n",
       "      country purchase type  gender_encode  category_encode  country_encode  \\\n",
       "1    pakistan       offline              0                1               9   \n",
       "4    pakistan        online              0                5               9   \n",
       "7       korea        online              0                5               5   \n",
       "8   australia        online              0                3               1   \n",
       "10      korea        online              1                5               5   \n",
       "\n",
       "    purchase type_encode   age groups  \n",
       "1                      0        adult  \n",
       "4                      1          old  \n",
       "7                      1  middle aged  \n",
       "8                      1  middle aged  \n",
       "10                     1  middle aged  "
      ]
     },
     "execution_count": 288,
     "metadata": {},
     "output_type": "execute_result"
    }
   ],
   "source": [
    "customer.head()"
   ]
  },
  {
   "cell_type": "code",
   "execution_count": 293,
   "metadata": {},
   "outputs": [],
   "source": [
    "dataset = customer[['age', 'gender_encode', 'income']]"
   ]
  },
  {
   "cell_type": "code",
   "execution_count": 298,
   "metadata": {},
   "outputs": [
    {
     "data": {
      "text/html": [
       "<div>\n",
       "<style scoped>\n",
       "    .dataframe tbody tr th:only-of-type {\n",
       "        vertical-align: middle;\n",
       "    }\n",
       "\n",
       "    .dataframe tbody tr th {\n",
       "        vertical-align: top;\n",
       "    }\n",
       "\n",
       "    .dataframe thead th {\n",
       "        text-align: right;\n",
       "    }\n",
       "</style>\n",
       "<table border=\"1\" class=\"dataframe\">\n",
       "  <thead>\n",
       "    <tr style=\"text-align: right;\">\n",
       "      <th></th>\n",
       "      <th>age</th>\n",
       "      <th>gender_encode</th>\n",
       "      <th>income</th>\n",
       "    </tr>\n",
       "  </thead>\n",
       "  <tbody>\n",
       "    <tr>\n",
       "      <th>1</th>\n",
       "      <td>27</td>\n",
       "      <td>0</td>\n",
       "      <td>0.771673</td>\n",
       "    </tr>\n",
       "    <tr>\n",
       "      <th>4</th>\n",
       "      <td>41</td>\n",
       "      <td>0</td>\n",
       "      <td>0.166759</td>\n",
       "    </tr>\n",
       "    <tr>\n",
       "      <th>7</th>\n",
       "      <td>31</td>\n",
       "      <td>0</td>\n",
       "      <td>0.131143</td>\n",
       "    </tr>\n",
       "    <tr>\n",
       "      <th>8</th>\n",
       "      <td>35</td>\n",
       "      <td>0</td>\n",
       "      <td>0.381695</td>\n",
       "    </tr>\n",
       "    <tr>\n",
       "      <th>10</th>\n",
       "      <td>30</td>\n",
       "      <td>1</td>\n",
       "      <td>0.614440</td>\n",
       "    </tr>\n",
       "  </tbody>\n",
       "</table>\n",
       "</div>"
      ],
      "text/plain": [
       "    age  gender_encode    income\n",
       "1    27              0  0.771673\n",
       "4    41              0  0.166759\n",
       "7    31              0  0.131143\n",
       "8    35              0  0.381695\n",
       "10   30              1  0.614440"
      ]
     },
     "execution_count": 298,
     "metadata": {},
     "output_type": "execute_result"
    }
   ],
   "source": [
    "dataset.head()"
   ]
  },
  {
   "cell_type": "code",
   "execution_count": 324,
   "metadata": {},
   "outputs": [],
   "source": [
    "kmeans = KMeans(n_clusters = 3, random_state = 0)\n",
    "clusters = kmeans.fit_predict(dataset)"
   ]
  },
  {
   "cell_type": "code",
   "execution_count": 325,
   "metadata": {},
   "outputs": [
    {
     "name": "stderr",
     "output_type": "stream",
     "text": [
      "<ipython-input-325-adb01e3d1383>:1: SettingWithCopyWarning: \n",
      "A value is trying to be set on a copy of a slice from a DataFrame.\n",
      "Try using .loc[row_indexer,col_indexer] = value instead\n",
      "\n",
      "See the caveats in the documentation: https://pandas.pydata.org/pandas-docs/stable/user_guide/indexing.html#returning-a-view-versus-a-copy\n",
      "  dataset['kmeans cluster'] = clusters\n"
     ]
    }
   ],
   "source": [
    "dataset['kmeans cluster'] = clusters"
   ]
  },
  {
   "cell_type": "code",
   "execution_count": 326,
   "metadata": {},
   "outputs": [
    {
     "data": {
      "text/plain": [
       "<AxesSubplot:xlabel='kmeans cluster', ylabel='income'>"
      ]
     },
     "execution_count": 326,
     "metadata": {},
     "output_type": "execute_result"
    },
    {
     "data": {
      "image/png": "[encoded data removed]",
      "text/plain": [
       "<Figure size 432x288 with 1 Axes>"
      ]
     },
     "metadata": {
      "needs_background": "light"
     },
     "output_type": "display_data"
    }
   ],
   "source": [
    "sns.scatterplot(data = dataset, x = dataset['kmeans cluster'], y = dataset['income'])"
   ]
  },
  {
   "cell_type": "code",
   "execution_count": 327,
   "metadata": {},
   "outputs": [
    {
     "data": {
      "text/plain": [
       "<AxesSubplot:xlabel='kmeans cluster', ylabel='age'>"
      ]
     },
     "execution_count": 327,
     "metadata": {},
     "output_type": "execute_result"
    },
    {
     "data": {
      "image/png": "[encoded data removed]",
      "text/plain": [
       "<Figure size 432x288 with 1 Axes>"
      ]
     },
     "metadata": {
      "needs_background": "light"
     },
     "output_type": "display_data"
    }
   ],
   "source": [
    "sns.scatterplot(data = dataset, x = dataset['kmeans cluster'], y = dataset['age'])"
   ]
  },
  {
   "cell_type": "code",
   "execution_count": 328,
   "metadata": {},
   "outputs": [
    {
     "data": {
      "text/plain": [
       "<AxesSubplot:xlabel='kmeans cluster', ylabel='gender'>"
      ]
     },
     "execution_count": 328,
     "metadata": {},
     "output_type": "execute_result"
    },
    {
     "data": {
      "image/png": "[encoded data removed]",
      "text/plain": [
       "<Figure size 432x288 with 1 Axes>"
      ]
     },
     "metadata": {
      "needs_background": "light"
     },
     "output_type": "display_data"
    }
   ],
   "source": [
    "sns.scatterplot(data = dataset, x = dataset['kmeans cluster'], y = customer['gender'])"
   ]
  },
  {
   "cell_type": "code",
   "execution_count": null,
   "metadata": {},
   "outputs": [],
   "source": []
  },
  {
   "cell_type": "markdown",
   "metadata": {},
   "source": [
    "8. Group the data in a dataset based on similarity by using Density Based methods."
   ]
  },
  {
   "cell_type": "markdown",
   "metadata": {},
   "source": [
    "##### Agglomerative Clustering"
   ]
  },
  {
   "cell_type": "code",
   "execution_count": 335,
   "metadata": {},
   "outputs": [
    {
     "name": "stderr",
     "output_type": "stream",
     "text": [
      "<ipython-input-335-06727d9d9a46>:3: SettingWithCopyWarning: \n",
      "A value is trying to be set on a copy of a slice from a DataFrame.\n",
      "Try using .loc[row_indexer,col_indexer] = value instead\n",
      "\n",
      "See the caveats in the documentation: https://pandas.pydata.org/pandas-docs/stable/user_guide/indexing.html#returning-a-view-versus-a-copy\n",
      "  dataset['agglomerative cluster'] = clusters\n"
     ]
    }
   ],
   "source": [
    "agg = AgglomerativeClustering(n_clusters = 3, affinity = 'euclidean')\n",
    "clusters = agg.fit_predict(dataset)\n",
    "dataset['agglomerative cluster'] = clusters"
   ]
  },
  {
   "cell_type": "code",
   "execution_count": 336,
   "metadata": {},
   "outputs": [
    {
     "data": {
      "text/html": [
       "<div>\n",
       "<style scoped>\n",
       "    .dataframe tbody tr th:only-of-type {\n",
       "        vertical-align: middle;\n",
       "    }\n",
       "\n",
       "    .dataframe tbody tr th {\n",
       "        vertical-align: top;\n",
       "    }\n",
       "\n",
       "    .dataframe thead th {\n",
       "        text-align: right;\n",
       "    }\n",
       "</style>\n",
       "<table border=\"1\" class=\"dataframe\">\n",
       "  <thead>\n",
       "    <tr style=\"text-align: right;\">\n",
       "      <th></th>\n",
       "      <th>age</th>\n",
       "      <th>gender_encode</th>\n",
       "      <th>income</th>\n",
       "      <th>kmeans cluster</th>\n",
       "      <th>agglomerative cluster</th>\n",
       "    </tr>\n",
       "  </thead>\n",
       "  <tbody>\n",
       "    <tr>\n",
       "      <th>1</th>\n",
       "      <td>27</td>\n",
       "      <td>0</td>\n",
       "      <td>0.771673</td>\n",
       "      <td>1</td>\n",
       "      <td>0</td>\n",
       "    </tr>\n",
       "    <tr>\n",
       "      <th>4</th>\n",
       "      <td>41</td>\n",
       "      <td>0</td>\n",
       "      <td>0.166759</td>\n",
       "      <td>1</td>\n",
       "      <td>0</td>\n",
       "    </tr>\n",
       "    <tr>\n",
       "      <th>7</th>\n",
       "      <td>31</td>\n",
       "      <td>0</td>\n",
       "      <td>0.131143</td>\n",
       "      <td>1</td>\n",
       "      <td>0</td>\n",
       "    </tr>\n",
       "    <tr>\n",
       "      <th>8</th>\n",
       "      <td>35</td>\n",
       "      <td>0</td>\n",
       "      <td>0.381695</td>\n",
       "      <td>1</td>\n",
       "      <td>0</td>\n",
       "    </tr>\n",
       "    <tr>\n",
       "      <th>10</th>\n",
       "      <td>30</td>\n",
       "      <td>1</td>\n",
       "      <td>0.614440</td>\n",
       "      <td>1</td>\n",
       "      <td>0</td>\n",
       "    </tr>\n",
       "    <tr>\n",
       "      <th>12</th>\n",
       "      <td>36</td>\n",
       "      <td>0</td>\n",
       "      <td>0.522288</td>\n",
       "      <td>1</td>\n",
       "      <td>0</td>\n",
       "    </tr>\n",
       "    <tr>\n",
       "      <th>13</th>\n",
       "      <td>37</td>\n",
       "      <td>0</td>\n",
       "      <td>0.660271</td>\n",
       "      <td>1</td>\n",
       "      <td>0</td>\n",
       "    </tr>\n",
       "    <tr>\n",
       "      <th>14</th>\n",
       "      <td>56</td>\n",
       "      <td>0</td>\n",
       "      <td>0.443678</td>\n",
       "      <td>2</td>\n",
       "      <td>2</td>\n",
       "    </tr>\n",
       "    <tr>\n",
       "      <th>17</th>\n",
       "      <td>73</td>\n",
       "      <td>1</td>\n",
       "      <td>0.717007</td>\n",
       "      <td>0</td>\n",
       "      <td>1</td>\n",
       "    </tr>\n",
       "    <tr>\n",
       "      <th>18</th>\n",
       "      <td>66</td>\n",
       "      <td>0</td>\n",
       "      <td>0.666207</td>\n",
       "      <td>0</td>\n",
       "      <td>1</td>\n",
       "    </tr>\n",
       "    <tr>\n",
       "      <th>19</th>\n",
       "      <td>32</td>\n",
       "      <td>1</td>\n",
       "      <td>0.000000</td>\n",
       "      <td>1</td>\n",
       "      <td>0</td>\n",
       "    </tr>\n",
       "    <tr>\n",
       "      <th>22</th>\n",
       "      <td>67</td>\n",
       "      <td>0</td>\n",
       "      <td>0.876588</td>\n",
       "      <td>0</td>\n",
       "      <td>1</td>\n",
       "    </tr>\n",
       "    <tr>\n",
       "      <th>23</th>\n",
       "      <td>31</td>\n",
       "      <td>0</td>\n",
       "      <td>0.286306</td>\n",
       "      <td>1</td>\n",
       "      <td>0</td>\n",
       "    </tr>\n",
       "    <tr>\n",
       "      <th>24</th>\n",
       "      <td>32</td>\n",
       "      <td>1</td>\n",
       "      <td>0.774848</td>\n",
       "      <td>1</td>\n",
       "      <td>0</td>\n",
       "    </tr>\n",
       "    <tr>\n",
       "      <th>25</th>\n",
       "      <td>28</td>\n",
       "      <td>1</td>\n",
       "      <td>0.380315</td>\n",
       "      <td>1</td>\n",
       "      <td>0</td>\n",
       "    </tr>\n",
       "    <tr>\n",
       "      <th>26</th>\n",
       "      <td>77</td>\n",
       "      <td>1</td>\n",
       "      <td>0.625759</td>\n",
       "      <td>0</td>\n",
       "      <td>1</td>\n",
       "    </tr>\n",
       "    <tr>\n",
       "      <th>27</th>\n",
       "      <td>67</td>\n",
       "      <td>1</td>\n",
       "      <td>0.202374</td>\n",
       "      <td>0</td>\n",
       "      <td>1</td>\n",
       "    </tr>\n",
       "    <tr>\n",
       "      <th>29</th>\n",
       "      <td>22</td>\n",
       "      <td>1</td>\n",
       "      <td>0.444782</td>\n",
       "      <td>1</td>\n",
       "      <td>0</td>\n",
       "    </tr>\n",
       "    <tr>\n",
       "      <th>30</th>\n",
       "      <td>45</td>\n",
       "      <td>1</td>\n",
       "      <td>0.752347</td>\n",
       "      <td>2</td>\n",
       "      <td>0</td>\n",
       "    </tr>\n",
       "    <tr>\n",
       "      <th>32</th>\n",
       "      <td>34</td>\n",
       "      <td>1</td>\n",
       "      <td>0.840834</td>\n",
       "      <td>1</td>\n",
       "      <td>0</td>\n",
       "    </tr>\n",
       "    <tr>\n",
       "      <th>33</th>\n",
       "      <td>38</td>\n",
       "      <td>1</td>\n",
       "      <td>0.928493</td>\n",
       "      <td>1</td>\n",
       "      <td>0</td>\n",
       "    </tr>\n",
       "    <tr>\n",
       "      <th>34</th>\n",
       "      <td>69</td>\n",
       "      <td>1</td>\n",
       "      <td>0.718112</td>\n",
       "      <td>0</td>\n",
       "      <td>1</td>\n",
       "    </tr>\n",
       "    <tr>\n",
       "      <th>36</th>\n",
       "      <td>28</td>\n",
       "      <td>1</td>\n",
       "      <td>0.338763</td>\n",
       "      <td>1</td>\n",
       "      <td>0</td>\n",
       "    </tr>\n",
       "    <tr>\n",
       "      <th>38</th>\n",
       "      <td>22</td>\n",
       "      <td>0</td>\n",
       "      <td>0.688432</td>\n",
       "      <td>1</td>\n",
       "      <td>0</td>\n",
       "    </tr>\n",
       "    <tr>\n",
       "      <th>40</th>\n",
       "      <td>50</td>\n",
       "      <td>0</td>\n",
       "      <td>0.684152</td>\n",
       "      <td>2</td>\n",
       "      <td>2</td>\n",
       "    </tr>\n",
       "    <tr>\n",
       "      <th>41</th>\n",
       "      <td>46</td>\n",
       "      <td>0</td>\n",
       "      <td>0.042104</td>\n",
       "      <td>2</td>\n",
       "      <td>0</td>\n",
       "    </tr>\n",
       "    <tr>\n",
       "      <th>42</th>\n",
       "      <td>40</td>\n",
       "      <td>1</td>\n",
       "      <td>0.330342</td>\n",
       "      <td>1</td>\n",
       "      <td>0</td>\n",
       "    </tr>\n",
       "    <tr>\n",
       "      <th>43</th>\n",
       "      <td>51</td>\n",
       "      <td>1</td>\n",
       "      <td>0.522288</td>\n",
       "      <td>2</td>\n",
       "      <td>2</td>\n",
       "    </tr>\n",
       "    <tr>\n",
       "      <th>44</th>\n",
       "      <td>59</td>\n",
       "      <td>1</td>\n",
       "      <td>0.886389</td>\n",
       "      <td>2</td>\n",
       "      <td>2</td>\n",
       "    </tr>\n",
       "    <tr>\n",
       "      <th>45</th>\n",
       "      <td>77</td>\n",
       "      <td>0</td>\n",
       "      <td>0.221563</td>\n",
       "      <td>0</td>\n",
       "      <td>1</td>\n",
       "    </tr>\n",
       "    <tr>\n",
       "      <th>46</th>\n",
       "      <td>74</td>\n",
       "      <td>1</td>\n",
       "      <td>0.197267</td>\n",
       "      <td>0</td>\n",
       "      <td>1</td>\n",
       "    </tr>\n",
       "    <tr>\n",
       "      <th>47</th>\n",
       "      <td>51</td>\n",
       "      <td>1</td>\n",
       "      <td>0.858366</td>\n",
       "      <td>2</td>\n",
       "      <td>2</td>\n",
       "    </tr>\n",
       "    <tr>\n",
       "      <th>48</th>\n",
       "      <td>69</td>\n",
       "      <td>0</td>\n",
       "      <td>0.575235</td>\n",
       "      <td>0</td>\n",
       "      <td>1</td>\n",
       "    </tr>\n",
       "    <tr>\n",
       "      <th>49</th>\n",
       "      <td>72</td>\n",
       "      <td>1</td>\n",
       "      <td>0.797626</td>\n",
       "      <td>0</td>\n",
       "      <td>1</td>\n",
       "    </tr>\n",
       "    <tr>\n",
       "      <th>50</th>\n",
       "      <td>43</td>\n",
       "      <td>1</td>\n",
       "      <td>0.455687</td>\n",
       "      <td>2</td>\n",
       "      <td>0</td>\n",
       "    </tr>\n",
       "    <tr>\n",
       "      <th>52</th>\n",
       "      <td>70</td>\n",
       "      <td>1</td>\n",
       "      <td>0.681253</td>\n",
       "      <td>0</td>\n",
       "      <td>1</td>\n",
       "    </tr>\n",
       "    <tr>\n",
       "      <th>53</th>\n",
       "      <td>67</td>\n",
       "      <td>0</td>\n",
       "      <td>0.409304</td>\n",
       "      <td>0</td>\n",
       "      <td>1</td>\n",
       "    </tr>\n",
       "    <tr>\n",
       "      <th>54</th>\n",
       "      <td>79</td>\n",
       "      <td>0</td>\n",
       "      <td>0.522288</td>\n",
       "      <td>0</td>\n",
       "      <td>1</td>\n",
       "    </tr>\n",
       "    <tr>\n",
       "      <th>57</th>\n",
       "      <td>73</td>\n",
       "      <td>1</td>\n",
       "      <td>0.385146</td>\n",
       "      <td>0</td>\n",
       "      <td>1</td>\n",
       "    </tr>\n",
       "    <tr>\n",
       "      <th>58</th>\n",
       "      <td>30</td>\n",
       "      <td>0</td>\n",
       "      <td>0.631005</td>\n",
       "      <td>1</td>\n",
       "      <td>0</td>\n",
       "    </tr>\n",
       "    <tr>\n",
       "      <th>60</th>\n",
       "      <td>28</td>\n",
       "      <td>1</td>\n",
       "      <td>0.486886</td>\n",
       "      <td>1</td>\n",
       "      <td>0</td>\n",
       "    </tr>\n",
       "    <tr>\n",
       "      <th>61</th>\n",
       "      <td>20</td>\n",
       "      <td>0</td>\n",
       "      <td>0.304390</td>\n",
       "      <td>1</td>\n",
       "      <td>0</td>\n",
       "    </tr>\n",
       "    <tr>\n",
       "      <th>62</th>\n",
       "      <td>54</td>\n",
       "      <td>1</td>\n",
       "      <td>0.910547</td>\n",
       "      <td>2</td>\n",
       "      <td>2</td>\n",
       "    </tr>\n",
       "    <tr>\n",
       "      <th>63</th>\n",
       "      <td>67</td>\n",
       "      <td>1</td>\n",
       "      <td>0.337935</td>\n",
       "      <td>0</td>\n",
       "      <td>1</td>\n",
       "    </tr>\n",
       "    <tr>\n",
       "      <th>64</th>\n",
       "      <td>72</td>\n",
       "      <td>1</td>\n",
       "      <td>0.422142</td>\n",
       "      <td>0</td>\n",
       "      <td>1</td>\n",
       "    </tr>\n",
       "    <tr>\n",
       "      <th>65</th>\n",
       "      <td>55</td>\n",
       "      <td>1</td>\n",
       "      <td>0.127278</td>\n",
       "      <td>2</td>\n",
       "      <td>2</td>\n",
       "    </tr>\n",
       "    <tr>\n",
       "      <th>66</th>\n",
       "      <td>32</td>\n",
       "      <td>1</td>\n",
       "      <td>0.917311</td>\n",
       "      <td>1</td>\n",
       "      <td>0</td>\n",
       "    </tr>\n",
       "    <tr>\n",
       "      <th>67</th>\n",
       "      <td>57</td>\n",
       "      <td>0</td>\n",
       "      <td>0.573716</td>\n",
       "      <td>2</td>\n",
       "      <td>2</td>\n",
       "    </tr>\n",
       "    <tr>\n",
       "      <th>68</th>\n",
       "      <td>80</td>\n",
       "      <td>1</td>\n",
       "      <td>0.336278</td>\n",
       "      <td>0</td>\n",
       "      <td>1</td>\n",
       "    </tr>\n",
       "    <tr>\n",
       "      <th>69</th>\n",
       "      <td>38</td>\n",
       "      <td>0</td>\n",
       "      <td>0.151298</td>\n",
       "      <td>1</td>\n",
       "      <td>0</td>\n",
       "    </tr>\n",
       "  </tbody>\n",
       "</table>\n",
       "</div>"
      ],
      "text/plain": [
       "    age  gender_encode    income  kmeans cluster  agglomerative cluster\n",
       "1    27              0  0.771673               1                      0\n",
       "4    41              0  0.166759               1                      0\n",
       "7    31              0  0.131143               1                      0\n",
       "8    35              0  0.381695               1                      0\n",
       "10   30              1  0.614440               1                      0\n",
       "12   36              0  0.522288               1                      0\n",
       "13   37              0  0.660271               1                      0\n",
       "14   56              0  0.443678               2                      2\n",
       "17   73              1  0.717007               0                      1\n",
       "18   66              0  0.666207               0                      1\n",
       "19   32              1  0.000000               1                      0\n",
       "22   67              0  0.876588               0                      1\n",
       "23   31              0  0.286306               1                      0\n",
       "24   32              1  0.774848               1                      0\n",
       "25   28              1  0.380315               1                      0\n",
       "26   77              1  0.625759               0                      1\n",
       "27   67              1  0.202374               0                      1\n",
       "29   22              1  0.444782               1                      0\n",
       "30   45              1  0.752347               2                      0\n",
       "32   34              1  0.840834               1                      0\n",
       "33   38              1  0.928493               1                      0\n",
       "34   69              1  0.718112               0                      1\n",
       "36   28              1  0.338763               1                      0\n",
       "38   22              0  0.688432               1                      0\n",
       "40   50              0  0.684152               2                      2\n",
       "41   46              0  0.042104               2                      0\n",
       "42   40              1  0.330342               1                      0\n",
       "43   51              1  0.522288               2                      2\n",
       "44   59              1  0.886389               2                      2\n",
       "45   77              0  0.221563               0                      1\n",
       "46   74              1  0.197267               0                      1\n",
       "47   51              1  0.858366               2                      2\n",
       "48   69              0  0.575235               0                      1\n",
       "49   72              1  0.797626               0                      1\n",
       "50   43              1  0.455687               2                      0\n",
       "52   70              1  0.681253               0                      1\n",
       "53   67              0  0.409304               0                      1\n",
       "54   79              0  0.522288               0                      1\n",
       "57   73              1  0.385146               0                      1\n",
       "58   30              0  0.631005               1                      0\n",
       "60   28              1  0.486886               1                      0\n",
       "61   20              0  0.304390               1                      0\n",
       "62   54              1  0.910547               2                      2\n",
       "63   67              1  0.337935               0                      1\n",
       "64   72              1  0.422142               0                      1\n",
       "65   55              1  0.127278               2                      2\n",
       "66   32              1  0.917311               1                      0\n",
       "67   57              0  0.573716               2                      2\n",
       "68   80              1  0.336278               0                      1\n",
       "69   38              0  0.151298               1                      0"
      ]
     },
     "execution_count": 336,
     "metadata": {},
     "output_type": "execute_result"
    }
   ],
   "source": [
    "dataset"
   ]
  },
  {
   "cell_type": "code",
   "execution_count": 332,
   "metadata": {},
   "outputs": [
    {
     "data": {
      "text/plain": [
       "<AxesSubplot:xlabel='agglomerative cluster', ylabel='age'>"
      ]
     },
     "execution_count": 332,
     "metadata": {},
     "output_type": "execute_result"
    },
    {
     "data": {
      "image/png": "[encoded data removed]",
      "text/plain": [
       "<Figure size 432x288 with 1 Axes>"
      ]
     },
     "metadata": {
      "needs_background": "light"
     },
     "output_type": "display_data"
    }
   ],
   "source": [
    "sns.scatterplot(data = dataset, x = dataset['agglomerative cluster'], y = dataset['age'])"
   ]
  },
  {
   "cell_type": "code",
   "execution_count": 333,
   "metadata": {},
   "outputs": [
    {
     "data": {
      "text/plain": [
       "<AxesSubplot:xlabel='agglomerative cluster', ylabel='income'>"
      ]
     },
     "execution_count": 333,
     "metadata": {},
     "output_type": "execute_result"
    },
    {
     "data": {
      "image/png": "[encoded data removed]",
      "text/plain": [
       "<Figure size 432x288 with 1 Axes>"
      ]
     },
     "metadata": {
      "needs_background": "light"
     },
     "output_type": "display_data"
    }
   ],
   "source": [
    "sns.scatterplot(data = dataset, x = dataset['agglomerative cluster'], y = dataset['income'])"
   ]
  },
  {
   "cell_type": "code",
   "execution_count": 334,
   "metadata": {},
   "outputs": [
    {
     "data": {
      "text/plain": [
       "<AxesSubplot:xlabel='agglomerative cluster', ylabel='gender_encode'>"
      ]
     },
     "execution_count": 334,
     "metadata": {},
     "output_type": "execute_result"
    },
    {
     "data": {
      "image/png": "[encoded data removed]",
      "text/plain": [
       "<Figure size 432x288 with 1 Axes>"
      ]
     },
     "metadata": {
      "needs_background": "light"
     },
     "output_type": "display_data"
    }
   ],
   "source": [
    "sns.scatterplot(data = dataset, x = dataset['agglomerative cluster'], y = dataset['gender_encode'].replace({0:'F', 1:'M'}))"
   ]
  },
  {
   "cell_type": "code",
   "execution_count": null,
   "metadata": {},
   "outputs": [],
   "source": []
  },
  {
   "cell_type": "markdown",
   "metadata": {},
   "source": [
    "##### DBSCAN Clustering"
   ]
  },
  {
   "cell_type": "code",
   "execution_count": 349,
   "metadata": {},
   "outputs": [],
   "source": [
    "dbscan = DBSCAN(eps = 3, min_samples = 3)\n",
    "clusters = dbscan.fit_predict(dataset)"
   ]
  },
  {
   "cell_type": "code",
   "execution_count": 351,
   "metadata": {},
   "outputs": [
    {
     "name": "stderr",
     "output_type": "stream",
     "text": [
      "<ipython-input-351-899e02fa60d2>:1: SettingWithCopyWarning: \n",
      "A value is trying to be set on a copy of a slice from a DataFrame.\n",
      "Try using .loc[row_indexer,col_indexer] = value instead\n",
      "\n",
      "See the caveats in the documentation: https://pandas.pydata.org/pandas-docs/stable/user_guide/indexing.html#returning-a-view-versus-a-copy\n",
      "  dataset['dbscan cluster'] = clusters\n"
     ]
    }
   ],
   "source": [
    "dataset['dbscan cluster'] = clusters"
   ]
  },
  {
   "cell_type": "code",
   "execution_count": 353,
   "metadata": {},
   "outputs": [
    {
     "data": {
      "text/plain": [
       "<AxesSubplot:xlabel='dbscan cluster', ylabel='age'>"
      ]
     },
     "execution_count": 353,
     "metadata": {},
     "output_type": "execute_result"
    },
    {
     "data": {
      "image/png": "[encoded data removed]",
      "text/plain": [
       "<Figure size 432x288 with 1 Axes>"
      ]
     },
     "metadata": {
      "needs_background": "light"
     },
     "output_type": "display_data"
    }
   ],
   "source": [
    "sns.scatterplot(data = dataset, x = dataset['dbscan cluster'], y = dataset['age'])"
   ]
  },
  {
   "cell_type": "code",
   "execution_count": 354,
   "metadata": {},
   "outputs": [
    {
     "data": {
      "text/plain": [
       "<AxesSubplot:xlabel='dbscan cluster', ylabel='income'>"
      ]
     },
     "execution_count": 354,
     "metadata": {},
     "output_type": "execute_result"
    },
    {
     "data": {
      "image/png": "[encoded data removed]",
      "text/plain": [
       "<Figure size 432x288 with 1 Axes>"
      ]
     },
     "metadata": {
      "needs_background": "light"
     },
     "output_type": "display_data"
    }
   ],
   "source": [
    "sns.scatterplot(data = dataset, x = dataset['dbscan cluster'], y = dataset['income'])"
   ]
  },
  {
   "cell_type": "code",
   "execution_count": 355,
   "metadata": {},
   "outputs": [
    {
     "data": {
      "text/plain": [
       "<AxesSubplot:xlabel='dbscan cluster', ylabel='gender_encode'>"
      ]
     },
     "execution_count": 355,
     "metadata": {},
     "output_type": "execute_result"
    },
    {
     "data": {
      "image/png": "[encoded data removed]",
      "text/plain": [
       "<Figure size 432x288 with 1 Axes>"
      ]
     },
     "metadata": {
      "needs_background": "light"
     },
     "output_type": "display_data"
    }
   ],
   "source": [
    "sns.scatterplot(data = dataset, x = dataset['dbscan cluster'], y = dataset['gender_encode'].replace({0:'F', 1:'M'}))"
   ]
  }
 ],
 "metadata": {
  "kernelspec": {
   "display_name": "Python 3",
   "language": "python",
   "name": "python3"
  },
  "language_info": {
   "codemirror_mode": {
    "name": "ipython",
    "version": 3
   },
   "file_extension": ".py",
   "mimetype": "text/x-python",
   "name": "python",
   "nbconvert_exporter": "python",
   "pygments_lexer": "ipython3",
   "version": "3.8.5"
  }
 },
 "nbformat": 4,
 "nbformat_minor": 4
}
